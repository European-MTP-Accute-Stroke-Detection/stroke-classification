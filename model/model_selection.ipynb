{
 "cells": [
  {
   "cell_type": "code",
   "execution_count": null,
   "metadata": {},
   "outputs": [],
   "source": [
    "\"\"\"\n",
    "Author: Eunmi Joo\n",
    "\n",
    "Model Selection base on Validation & Test Accuracy\n",
    "\n",
    "1. Select 10 highest validation accuracy models\n",
    "2. Select 2 highest test accuarcy models as best models\n",
    "\"\"\""
   ]
  },
  {
   "cell_type": "code",
   "execution_count": 1,
   "metadata": {},
   "outputs": [],
   "source": [
    "import torch\n",
    "import os\n",
    "device = \"cuda:6\" if torch.cuda.is_available() else \"cpu\"\n",
    "torch.cuda.set_device(device)\n",
    "import seaborn as sns\n",
    "import pickle\n",
    "import numpy as np\n",
    "from tqdm.notebook import tqdm\n",
    "import torch.nn as nn\n",
    "import torchvision.models as models\n",
    "import torch.nn.functional as F\n",
    "# from sklearn.model_selection import train_test_split\n",
    "from torch.utils.data import Dataset, DataLoader\n",
    "import warnings\n",
    "from sklearn.model_selection import train_test_split\n",
    "from sklearn.metrics import confusion_matrix, f1_score\n",
    "\n",
    "warnings.filterwarnings(\"ignore\")"
   ]
  },
  {
   "cell_type": "code",
   "execution_count": 2,
   "metadata": {},
   "outputs": [],
   "source": [
    "with open(\"/ceph/inestp02/stroke_classifier/data/patientwise/preprocess/features_resnet152.pickle\", \"rb\") as f:\n",
    "    features = pickle.load(f)\n",
    "with open('/ceph/inestp02/stroke_classifier/data/patientwise/preprocess/patient_data_combine_wo_dicom.pickle', 'rb') as f:\n",
    "    patientwise_scans = pickle.load(f)"
   ]
  },
  {
   "cell_type": "code",
   "execution_count": 3,
   "metadata": {},
   "outputs": [],
   "source": [
    "#BiGRU/ should data be padded front and back since it's bidirectional?? \n",
    "#atm, padding is only at the back\n",
    "\n",
    "class PatientwiseDataset(Dataset):\n",
    "    def __init__(self, data, labels):\n",
    "        self.data = data\n",
    "        self.labels = labels\n",
    "\n",
    "    def __len__(self):\n",
    "        return len(self.data)\n",
    "\n",
    "    def __getitem__(self, idx):\n",
    "        x = self.data[idx]\n",
    "        y = self.labels[idx]\n",
    "        return x, y\n",
    "\n",
    "class PositionalEncoding(nn.Module):\n",
    "    def __init__(self, d_model: int, dropout: float = 0.1, max_len: int = 80):\n",
    "        super(PositionalEncoding, self).__init__()\n",
    "        self.dropout = nn.Dropout(p=dropout)\n",
    "        position = torch.arange(max_len).unsqueeze(1)\n",
    "        div_term = torch.exp(torch.arange(0, d_model, 2) * (-np.log(10000.0) / d_model))\n",
    "        pe = torch.zeros(max_len, d_model)\n",
    "        pe[:, 0::2] = torch.sin(position * div_term)\n",
    "        pe[:, 1::2] = torch.cos(position * div_term)\n",
    "        self.register_buffer('pe', pe)\n",
    "    \n",
    "    def forward(self, x: torch.Tensor) -> torch.Tensor:\n",
    "        x = x + self.pe[:x.size(0)]\n",
    "        return self.dropout(x)\n",
    "\n",
    "\n",
    "class CNNTransformer(nn.Module):\n",
    "    def __init__(self, input_dim, output_dim, d_model, nhead, dim_feedforward=2048, dropout=0.1, activation=\"relu\"):\n",
    "        super(CNNTransformer, self).__init__()\n",
    "        \n",
    "        # fine_cnn = cnn_model\n",
    "        # modules = list(fine_cnn.children())[:-1]\n",
    "        # self.cnn = nn.Sequential(*modules)\n",
    "        \n",
    "        # self.embedding = nn.Linear(in_features, d_model)\n",
    "        \n",
    "        self.encoder_layer = nn.TransformerEncoderLayer(input_dim, nhead, dim_feedforward, dropout, activation)\n",
    "        self.encoder = nn.TransformerEncoder(self.encoder_layer, num_layers=1)\n",
    "        self.fc = nn.Linear(d_model, output_dim)\n",
    "\n",
    "    def forward(self, x):\n",
    "        x = x.permute(1, 0, 2)\n",
    "        x = self.encoder(x)\n",
    "        # print(x.shape)\n",
    "        x.shape\n",
    "        \n",
    "        x = x.mean(dim=0)  # Average pooling across the sequence length dimension\n",
    "        # print(x.shape)\n",
    "        x = self.fc(x)\n",
    "        # print(x.shape)\n",
    "        return x\n",
    "    \n",
    "# Set the hyperparameters\n",
    "\n",
    "model = models.resnet152(weights=\"DEFAULT\")\n",
    "# in_features = model.fc.in_features"
   ]
  },
  {
   "cell_type": "code",
   "execution_count": 4,
   "metadata": {},
   "outputs": [],
   "source": [
    "state_dict_path = f'models_state_dict/runs/'\n",
    "if not os.path.exists(state_dict_path):\n",
    "        os.makedirs(state_dict_path)\n",
    "\n",
    "#model save path\n",
    "model_path = f'models/runs/'\n",
    "if not os.path.exists(model_path):\n",
    "        os.makedirs(model_path)\n",
    "\n",
    "#tensorboard path\n",
    "tensorboard_path = f'tensorboard/runs/'\n",
    "if not os.path.exists(tensorboard_path):\n",
    "        os.makedirs(tensorboard_path)"
   ]
  },
  {
   "cell_type": "code",
   "execution_count": 5,
   "metadata": {},
   "outputs": [],
   "source": [
    "X = features\n",
    "y = torch.Tensor(list(i['patient_label'] for i in patientwise_scans.values()))\n",
    "X_train, X_test, y_train, y_test = train_test_split(X, y, test_size=0.3, random_state=42)\n",
    "X_train, X_val, y_train, y_val = train_test_split(X_train, y_train, test_size=0.1, random_state=42)\n",
    "train_dataset = PatientwiseDataset(X_train, y_train)\n",
    "test_dataset = PatientwiseDataset(X_test, y_test)\n",
    "val_dataset = PatientwiseDataset(X_val, y_val)"
   ]
  },
  {
   "cell_type": "code",
   "execution_count": 18,
   "metadata": {},
   "outputs": [],
   "source": [
    "def test_accuracy(model, print_result = False):\n",
    "    #test\n",
    "    model.eval()\n",
    "    test_loader = DataLoader(test_dataset, batch_size=4, shuffle = False)\n",
    "\n",
    "    # Initialize variables to track loss and accuracy\n",
    "    test_acc = 0.0\n",
    "    predicted_labels = []\n",
    "    true_labels = []\n",
    "\n",
    "    # Disable gradient computation\n",
    "    with torch.no_grad():\n",
    "        # Iterate over validation data\n",
    "        for batch_inputs, batch_targets in test_loader:\n",
    "            batch_inputs = batch_inputs.squeeze().to(device)\n",
    "            one_hot_targets = F.one_hot(batch_targets.long(), num_classes=3)\n",
    "            one_hot_targets = one_hot_targets.to(device)\n",
    "            \n",
    "            outputs = model(batch_inputs)\n",
    "            \n",
    "            predicted = torch.argmax(outputs, 1)\n",
    "            test_acc += (predicted == batch_targets.to(device)).sum().item()\n",
    "            predicted_labels.extend(predicted.cpu().numpy())\n",
    "            true_labels.extend(batch_targets.cpu().numpy())\n",
    "\n",
    "    test_acc /= len(test_loader.dataset)\n",
    "    \n",
    "    if print_result:\n",
    "        print(\"f1 score:\", f1_score(true_labels, predicted_labels, average=None))\n",
    "        sns.heatmap(confusion_matrix(true_labels, predicted_labels), annot=True)\n",
    "    \n",
    "    return test_acc"
   ]
  },
  {
   "cell_type": "code",
   "execution_count": 7,
   "metadata": {},
   "outputs": [],
   "source": [
    "with open(\"/ceph/inestp02/stroke_classifier/src/transformer/loss_lst.pickle\", 'rb') as f:\n",
    "    loss_lst = pickle.load(f)"
   ]
  },
  {
   "cell_type": "code",
   "execution_count": 8,
   "metadata": {},
   "outputs": [
    {
     "data": {
      "text/plain": [
       "array([230, 215, 122, 203,  57,  11,  81, 214,  33,  69])"
      ]
     },
     "execution_count": 8,
     "metadata": {},
     "output_type": "execute_result"
    }
   ],
   "source": [
    "loss_np = np.array(loss_lst)\n",
    "sorted_idx = np.argsort(loss_np)[:10]\n",
    "sorted_idx"
   ]
  },
  {
   "cell_type": "code",
   "execution_count": 19,
   "metadata": {},
   "outputs": [
    {
     "name": "stdout",
     "output_type": "stream",
     "text": [
      "test acc of 230th model: 0.7353760445682451\n",
      "test acc of 215th model: 0.7910863509749304\n",
      "test acc of 122th model: 0.7576601671309192\n",
      "test acc of 203th model: 0.7325905292479109\n",
      "test acc of 57th model: 0.7075208913649025\n",
      "test acc of 11th model: 0.6239554317548747\n",
      "test acc of 81th model: 0.83008356545961\n",
      "test acc of 214th model: 0.7883008356545961\n",
      "test acc of 33th model: 0.8328690807799443\n",
      "test acc of 69th model: 0.8022284122562674\n"
     ]
    }
   ],
   "source": [
    "for idx in sorted_idx:\n",
    "    checkpoint = torch.load(f\"./transformer/transformer_classifier_{idx}.pth\")\n",
    "\n",
    "    input_dim = checkpoint['input_dim']\n",
    "    output_dim = checkpoint['output_dim']\n",
    "    d_model = checkpoint['d_model']\n",
    "    nhead = checkpoint['nhead']\n",
    "    dim_feedforward = checkpoint['dim_feedforward']\n",
    "    dropout = checkpoint['dropout']\n",
    "\n",
    "    model = CNNTransformer(input_dim, output_dim, d_model, nhead, dim_feedforward, dropout, activation=\"relu\").to(device)\n",
    "\n",
    "    model.load_state_dict(checkpoint['model_state_dict'])\n",
    "\n",
    "    print(f\"test acc of {idx}th model:\", test_accuracy(model))"
   ]
  },
  {
   "cell_type": "code",
   "execution_count": 20,
   "metadata": {},
   "outputs": [
    {
     "name": "stdout",
     "output_type": "stream",
     "text": [
      "f1 score: [0.75313808 0.75303644 0.99137931]\n",
      "test acc of 69th model: 0.83008356545961\n"
     ]
    },
    {
     "data": {
      "image/png": "[encoded data removed]",
      "text/plain": [
       "<Figure size 640x480 with 2 Axes>"
      ]
     },
     "metadata": {},
     "output_type": "display_data"
    }
   ],
   "source": [
    "checkpoint = torch.load(f\"./transformer/transformer_classifier_81.pth\")\n",
    "\n",
    "input_dim = checkpoint['input_dim']\n",
    "output_dim = checkpoint['output_dim']\n",
    "d_model = checkpoint['d_model']\n",
    "nhead = checkpoint['nhead']\n",
    "dim_feedforward = checkpoint['dim_feedforward']\n",
    "dropout = checkpoint['dropout']\n",
    "\n",
    "model = CNNTransformer(input_dim, output_dim, d_model, nhead, dim_feedforward, dropout, activation=\"relu\").to(device)\n",
    "\n",
    "model.load_state_dict(checkpoint['model_state_dict'])\n",
    "\n",
    "print(f\"test acc of {idx}th model:\", test_accuracy(model, print_result=True))"
   ]
  },
  {
   "cell_type": "code",
   "execution_count": 21,
   "metadata": {},
   "outputs": [
    {
     "name": "stdout",
     "output_type": "stream",
     "text": [
      "f1 score: [0.75744681 0.76       0.98712446]\n",
      "test acc of 69th model: 0.8328690807799443\n"
     ]
    },
    {
     "data": {
      "image/png": "[encoded data removed]",
      "text/plain": [
       "<Figure size 640x480 with 2 Axes>"
      ]
     },
     "metadata": {},
     "output_type": "display_data"
    }
   ],
   "source": [
    "checkpoint = torch.load(f\"./transformer/transformer_classifier_33.pth\")\n",
    "\n",
    "input_dim = checkpoint['input_dim']\n",
    "output_dim = checkpoint['output_dim']\n",
    "d_model = checkpoint['d_model']\n",
    "nhead = checkpoint['nhead']\n",
    "dim_feedforward = checkpoint['dim_feedforward']\n",
    "dropout = checkpoint['dropout']\n",
    "\n",
    "model = CNNTransformer(input_dim, output_dim, d_model, nhead, dim_feedforward, dropout, activation=\"relu\").to(device)\n",
    "\n",
    "model.load_state_dict(checkpoint['model_state_dict'])\n",
    "\n",
    "print(f\"test acc of {idx}th model:\", test_accuracy(model, print_result=True))"
   ]
  }
 ],
 "metadata": {
  "kernelspec": {
   "display_name": "Python 3 (ipykernel)",
   "language": "python",
   "name": "python3"
  },
  "language_info": {
   "codemirror_mode": {
    "name": "ipython",
    "version": 3
   },
   "file_extension": ".py",
   "mimetype": "text/x-python",
   "name": "python",
   "nbconvert_exporter": "python",
   "pygments_lexer": "ipython3",
   "version": "3.10.11"
  }
 },
 "nbformat": 4,
 "nbformat_minor": 4
}
